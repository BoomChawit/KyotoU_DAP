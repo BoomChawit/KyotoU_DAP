{
 "cells": [
  {
   "cell_type": "markdown",
   "metadata": {},
   "source": [
    "# Assn08:  Simulating experiments\n",
    "\n",
    "Refer to the **Lecture08** notes (available on PandA) when completing this assignment.\n",
    "\n",
    "&nbsp;\n",
    "\n",
    "Consider the following two-sample data from [Real Statistics](http://www.real-statistics.com/students-t-distribution/two-sample-t-test-equal-variances/):\n",
    "\n",
    "&nbsp;\n",
    "\n",
    "<img alt=\"data\" width=500 src=\"https://i0.wp.com/www.real-statistics.com/wp-content/uploads/2012/11/two-sample-t-test.png?w=660\">\n",
    "\n",
    "&nbsp;\n",
    "\n",
    "The results for this dataset are:\n",
    "\n",
    "<img alt=\"data\" width=300 src=\"https://i0.wp.com/www.real-statistics.com/wp-content/uploads/2012/11/t-test-excel-tool.png?w=303\">\n",
    "\n",
    "\n",
    "&nbsp;\n",
    "\n",
    "Recall from **Lecture 07** that the two-sample t statistic is:\n",
    "\n",
    "\n",
    "<table border=\"1\">\n",
    "  <tr>\n",
    "    <td></td>\n",
    "    <td></td>\n",
    "    <td>$t = \\frac{  \\overline{y}_1   - \\overline{y}_2  }{  s_p  \\sqrt{ \\frac{1}{n_1} + \\frac{1}{n_2}  }  }$</td>\n",
    "    <td></td>\n",
    "    <td>(Equation 3)</td>\n",
    "  </tr>\n",
    "  <tr>\n",
    "</table>\n",
    "\n",
    "\n",
    "where $s_p$ is the pooled standard deviation:\n",
    "\n",
    "<center>$s_p = \\sqrt{   \\frac{(n_1 - 1)s_1^2 + (n_2 - 1)s_2^2}{n_1 + n_2 - 2}   }$</center>"
   ]
  },
  {
   "cell_type": "code",
   "execution_count": 1,
   "metadata": {},
   "outputs": [],
   "source": [
    "%matplotlib inline\n",
    "import numpy as np\n",
    "from scipy import stats\n",
    "from matplotlib import pyplot as plt"
   ]
  },
  {
   "cell_type": "markdown",
   "metadata": {},
   "source": [
    "___\n",
    "\n",
    "### Task\n",
    "\n",
    "\n",
    "Complete the `t_two_sample` function below to calculate the two-sample t value."
   ]
  },
  {
   "cell_type": "code",
   "execution_count": 10,
   "metadata": {},
   "outputs": [],
   "source": [
    "# (Complete the function in this cell)\n",
    "import numpy as np\n",
    "from scipy import stats\n",
    "def t_two_sample(yA, yB):\n",
    "    bmean = np.mean(yA)\n",
    "    bstd = np.std(yA, ddof = 1)\n",
    "    emean = np.mean(yB)\n",
    "    estd = np.std(yB, ddof=1)\n",
    "    \n",
    "    nb = len(yA)\n",
    "    ne = len(yB)\n",
    "\n",
    "    d = (nb-1)*(bstd**2) + (ne-1)*(estd**2)\n",
    "    std = (d/(ne+nb-2))**0.5\n",
    "    t = (bmean - emean)/(std*(1/nb + 1/ne)**0.5)\n",
    "    \n",
    "    return t"
   ]
  },
  {
   "cell_type": "markdown",
   "metadata": {},
   "source": [
    "___\n",
    "\n",
    "### Task\n",
    "\n",
    "Use your `t_two_sample` function above to verify the t value reported for the dataset above ( <span style=\"color:blue\">$t = 2.177$</span> ).\n",
    "\n"
   ]
  },
  {
   "cell_type": "code",
   "execution_count": 11,
   "metadata": {},
   "outputs": [
    {
     "name": "stdout",
     "output_type": "stream",
     "text": [
      "Reported value:                  t = 2.177\n",
      "Calculated using t_two_sample:   t = 2.177\n"
     ]
    }
   ],
   "source": [
    "# (Complete the commands in this cell)\n",
    "\n",
    "# Delete the \"#\" characters below to un-comment these commands\n",
    "\n",
    "new = np.array( [13,17,19,11,20,15,18,9,12,16 ] )\n",
    "old = np.array( [12,8,6,16,12,14,10,18,4,11 ] )\n",
    "t   = t_two_sample( new , old )\n",
    "print('Reported value:                  t = 2.177')\n",
    "print('Calculated using t_two_sample:   t = %.3f' %t)\n"
   ]
  },
  {
   "cell_type": "markdown",
   "metadata": {},
   "source": [
    "___\n",
    "\n",
    "### Task\n",
    "\n",
    "\n",
    "Use `scipy.stats.t.sf` to verify the p value reported for the dataset above ( <span style=\"color:blue\">$p = 0.022$</span> ).\n"
   ]
  },
  {
   "cell_type": "code",
   "execution_count": 14,
   "metadata": {},
   "outputs": [
    {
     "name": "stdout",
     "output_type": "stream",
     "text": [
      "0.028738184393254453\n"
     ]
    }
   ],
   "source": [
    "# (Enter relevant calculations here)\n",
    "from scipy import stats\n",
    "\n",
    "p = stats.t.sf(t,9)\n",
    "print(p)"
   ]
  },
  {
   "cell_type": "markdown",
   "metadata": {},
   "source": [
    "___\n",
    "\n",
    "### Task\n",
    "\n",
    "Simulate at least 1000 two-sample experiments to numerically verify the reported p value ( <span style=\"color:blue\">$p = 0.022$</span> ).\n",
    "\n",
    "**Hints**:\n",
    "\n",
    "* Use the one-sample simulation from **Lecture 08** as a reference.\n",
    "\n",
    "* Use your `t_two_sample` function (above) to calculate the two-sample t value.\n",
    "\n",
    "* Also use:  \n",
    "\n",
    "    * $n_\\textrm{A} = n_\\textrm{B} = 10 \\hspace{5mm}$  <span style=\"color:blue\">(sample size)</span>\n",
    "\n",
    "    * $\\mu_\\textrm{A} = \\mu_\\textrm{B} = 0 \\hspace{5mm}$  <span style=\"color:blue\">(means when $H_0$ is true)</span>\n",
    "\n",
    "    * $\\sigma_\\textrm{A} = \\sigma_\\textrm{B} = 1 \\hspace{5mm}$  <span style=\"color:blue\">(true SD values)</span>\n",
    "\n",
    "    * $N \\ge 1000 \\hspace{5mm}$   <span style=\"color:blue\">(number of experiments)</span>\n",
    "\n",
    "\n",
    "* When simulating experiments, <span style=\"color:blue\">ensure that you use the Normal distribution</span> (**np.random.rand<span style=\"color:red\">n</span>**)  <span style=\"color:blue\">and NOT the Uniform distribution</span> (**np.random.rand**)\n"
   ]
  },
  {
   "cell_type": "code",
   "execution_count": 8,
   "metadata": {},
   "outputs": [
    {
     "name": "stdout",
     "output_type": "stream",
     "text": [
      "0.021\n"
     ]
    }
   ],
   "source": [
    "# (Enter relevant calculations here)\n",
    "\n",
    "N  = 200000 \n",
    "na = 10 \n",
    "nb = 10\n",
    "\n",
    "mua = 0 \n",
    "mub = 0\n",
    "sigmaa = 1\n",
    "sigmab = 1\n",
    "\n",
    "np.random.seed(0)\n",
    "tt     = []\n",
    "for i in range(N):\n",
    "    ya = mua + sigmaa * np.random.randn(na)\n",
    "    yb = mub + sigmab * np.random.randn(nb)\n",
    "    t  = t_two_sample(ya,yb)\n",
    "    tt.append(t)\n",
    "\n",
    "tt = np.array( tt ) \n",
    "p = ( tt > 2.177).mean()\n",
    "print(p)"
   ]
  },
  {
   "cell_type": "markdown",
   "metadata": {},
   "source": [
    "___\n",
    "\n",
    "# BONUS\n",
    "\n",
    "(+1) \n",
    "\n",
    "**Question**: For the one-sample t test, why is $\\hspace{2mm} \\nu = n-1 \\hspace{2mm}$?\n",
    "\n",
    " <span style=\"color:blue\">(This question is not answered in the lecture notes. If you don’t already know why, you will need to search books or the internet to find the answer.) </span>"
   ]
  },
  {
   "cell_type": "markdown",
   "metadata": {},
   "source": [
    "**ANSWER**:   As far as I have achknowledged, when we have a set of $n$ data with the mean of them. The degree of freedom $v$ means a number of data that we can freely choose. It needs to be $n-1^{th}$ because from the $1^{th}$ to the $n-1^{th}$ data we can choose freely, and the $n^{th}$ data needs to satisfy the mean. Thus we cannot choose the last one freely."
   ]
  }
 ],
 "metadata": {
  "kernelspec": {
   "display_name": "Python 3 (ipykernel)",
   "language": "python",
   "name": "python3"
  },
  "language_info": {
   "codemirror_mode": {
    "name": "ipython",
    "version": 3
   },
   "file_extension": ".py",
   "mimetype": "text/x-python",
   "name": "python",
   "nbconvert_exporter": "python",
   "pygments_lexer": "ipython3",
   "version": "3.8.8"
  }
 },
 "nbformat": 4,
 "nbformat_minor": 2
}
