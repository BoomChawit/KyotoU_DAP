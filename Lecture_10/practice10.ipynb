{
 "cells": [
  {
   "cell_type": "code",
   "execution_count": 75,
   "metadata": {},
   "outputs": [
    {
     "name": "stdout",
     "output_type": "stream",
     "text": [
      "[[ 1.3315865   0.71527897 -1.54540029]\n",
      " [-0.00838385  0.62133597 -0.72008556]\n",
      " [ 0.26551159  0.10854853  0.00429143]\n",
      " [-0.17460021  0.43302619  1.20303737]\n",
      " [-0.96506567  1.02827408  0.22863013]]\n"
     ]
    }
   ],
   "source": [
    "import numpy as np\n",
    "np.random.seed(10)\n",
    "a = np.random.randn(5,3)\n",
    "\n",
    "fnameCSV = 'data10.csv'\n",
    "np.savetxt(fnameCSV, a, delimiter = ',')\n",
    "print(a)"
   ]
  },
  {
   "cell_type": "code",
   "execution_count": 76,
   "metadata": {},
   "outputs": [],
   "source": [
    "import csv\n",
    "\n",
    "fnameCSV = 'data10-2.csv'\n",
    "\n",
    "with open(fnameCSV,'w') as fid:\n",
    "    writer = csv.writer(fid)\n",
    "    writer.writerows(a)"
   ]
  },
  {
   "cell_type": "code",
   "execution_count": 77,
   "metadata": {},
   "outputs": [],
   "source": [
    "with open(fnameCSV, 'w') as fid:\n",
    "        writer = csv.writer(fid)\n",
    "        for aa in a:\n",
    "            writer.writerow(aa)"
   ]
  },
  {
   "cell_type": "code",
   "execution_count": 78,
   "metadata": {},
   "outputs": [
    {
     "name": "stdout",
     "output_type": "stream",
     "text": [
      "abc : 123\n",
      "b : 5\n",
      "ccc : hello\n",
      "abc 123\n",
      "b 5\n",
      "ccc hello\n"
     ]
    }
   ],
   "source": [
    "d = {'abc': 123, 'b':5, 'ccc': 'hello'}\n",
    "\n",
    "# print(d['abc'], d['b'],d['ccc'])\n",
    "# print()\n",
    "# print(d.keys())\n",
    "\n",
    "for key in d.keys():\n",
    "    print(key,':',d[key])\n",
    "    \n",
    "for key,value in d.items():\n",
    "    print(key,value)"
   ]
  },
  {
   "cell_type": "code",
   "execution_count": 79,
   "metadata": {},
   "outputs": [
    {
     "name": "stdout",
     "output_type": "stream",
     "text": [
      "{'title': 'ABC123', 'artist': 'Jackson 5'}\n",
      "{'artist': 'U2', 'title': 'Lemon'}\n",
      "{'artist': 'Blue Haerts', 'title': 'Linda Linda'}\n"
     ]
    }
   ],
   "source": [
    "# d0 = dict(title='ABC123', artist = \"Jackson 5\")\n",
    "# print(d0)\n",
    "d0 = {'title' : 'ABC123', 'artist' : 'Jackson 5'}\n",
    "d1 = dict(artist = 'U2', title = 'Lemon')\n",
    "d2 = dict(artist = 'Blue Haerts', title = 'Linda Linda')\n",
    "\n",
    "print(d0)\n",
    "print(d1)\n",
    "print(d2)"
   ]
  },
  {
   "cell_type": "code",
   "execution_count": 80,
   "metadata": {},
   "outputs": [],
   "source": [
    "songs = [d0, d1, d2]\n",
    "\n",
    "fnameCSV = 'data10-3.csv'\n",
    "with open(fnameCSV, 'w') as fid:\n",
    "    colnames = ['artist', 'title']\n",
    "    writer = csv.DictWriter(fid,fieldnames = colnames)\n",
    "    writer.writeheader()\n",
    "    for d in songs:\n",
    "        writer.writerow(d)"
   ]
  },
  {
   "cell_type": "code",
   "execution_count": 91,
   "metadata": {},
   "outputs": [],
   "source": [
    "fnameCSV =  'data10-4.csv'\n",
    "\n",
    "with open (fnameCSV, 'w') as fid:\n",
    "    fid.write('artist,title \\n')\n",
    "    for d in songs:\n",
    "        a = d['artist']\n",
    "        t = d['title']\n",
    "        fid.write(f\"{a},{t}\\n\")"
   ]
  },
  {
   "cell_type": "code",
   "execution_count": null,
   "metadata": {},
   "outputs": [],
   "source": []
  }
 ],
 "metadata": {
  "kernelspec": {
   "display_name": "Python 3",
   "language": "python",
   "name": "python3"
  },
  "language_info": {
   "codemirror_mode": {
    "name": "ipython",
    "version": 3
   },
   "file_extension": ".py",
   "mimetype": "text/x-python",
   "name": "python",
   "nbconvert_exporter": "python",
   "pygments_lexer": "ipython3",
   "version": "3.7.3"
  }
 },
 "nbformat": 4,
 "nbformat_minor": 2
}
