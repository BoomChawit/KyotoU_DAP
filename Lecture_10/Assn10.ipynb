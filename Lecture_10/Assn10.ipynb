{
 "cells": [
  {
   "cell_type": "markdown",
   "metadata": {},
   "source": [
    "# Assn10:  K-Means and KNN"
   ]
  },
  {
   "cell_type": "markdown",
   "metadata": {},
   "source": [
    "\n",
    "The goals of this assignment are:\n",
    "\n",
    "1. To conduct both **unsupervised learning** and **supervised learning** on one dataset.\n",
    "2. To compare the results of supervised and unsupervised learning.\n",
    "\n",
    "The learning algorithms used will be:\n",
    "\n",
    "* Unsupervised learning : &nbsp; &nbsp; **K-Means Clustering**\n",
    "* Supervised learning : &nbsp; &nbsp; **K-Nearest Neighbors Clustering**\n",
    "\n",
    "\n",
    "\n",
    "___\n",
    "\n",
    "\n",
    "⚠️ Note that the following files must be saved in the *same folder* as this notebook:\n",
    "\n",
    "* **lecture12util.py** : &nbsp; &nbsp; a utility module for Lecture 12\n",
    "* **Assn10-dataset.csv** : &nbsp; &nbsp; dataset to be used for *unsupervised* learning\n",
    "* **Assn10-dataset-with-labels.csv** : &nbsp; &nbsp; dataset to be used for *supervised* learning\n"
   ]
  },
  {
   "cell_type": "code",
   "execution_count": 1,
   "metadata": {},
   "outputs": [],
   "source": [
    "%matplotlib inline\n",
    "import numpy as np\n",
    "from matplotlib import pyplot as plt\n",
    "from sklearn.cluster import KMeans\n",
    "from sklearn.neighbors import KNeighborsClassifier\n",
    "import lecture12util as lu"
   ]
  },
  {
   "cell_type": "markdown",
   "metadata": {},
   "source": [
    "___\n",
    "\n",
    "## Part 1:  &nbsp; Unsupervised learning\n",
    "\n",
    "<br>\n",
    "\n",
    "Part 1 uses:\n",
    "\n",
    "* Learning algorithim: &nbsp; **K-Means Clustering**\n",
    "* Data file: &nbsp; **Assn10-dataset.csv**"
   ]
  },
  {
   "cell_type": "markdown",
   "metadata": {},
   "source": [
    "### Task 1.1\n",
    "\n",
    "Execute the code in the cell below to verify that you can successfully load and plot the dataset.\n",
    "\n",
    "Note that this dataset contains 100 observations for each of two variables."
   ]
  },
  {
   "cell_type": "code",
   "execution_count": 2,
   "metadata": {},
   "outputs": [
    {
     "data": {
      "image/png": "[encoded data removed]",
      "text/plain": [
       "<Figure size 432x288 with 1 Axes>"
      ]
     },
     "metadata": {
      "needs_background": "light"
     },
     "output_type": "display_data"
    }
   ],
   "source": [
    "# run the code in this cell to verify that you can load and plot the data\n",
    "\n",
    "fnameCSV = 'Assn10-dataset.csv' \n",
    "x = np.loadtxt(fnameCSV, delimiter=',') \n",
    "\n",
    "plt.figure()\n",
    "ax = plt.axes()\n",
    "ax.plot(x[:,0], x[:,1], 'o')\n",
    "ax.set_xlabel('x0', size=16)\n",
    "ax.set_ylabel('x1', size=16)\n",
    "ax.axis('equal')\n",
    "plt.show()"
   ]
  },
  {
   "cell_type": "markdown",
   "metadata": {},
   "source": [
    "### Task 1.2\n",
    "\n",
    "Run unsupervised learning on this dataset.\n",
    "\n",
    "Use K-Means Clustering with two clusters.\n",
    "\n",
    "Use `lu.plot_labeled_points` to plot the results.\n"
   ]
  },
  {
   "cell_type": "code",
   "execution_count": 3,
   "metadata": {},
   "outputs": [
    {
     "name": "stdout",
     "output_type": "stream",
     "text": [
      "Fitted cluster labels:  [0 0 1 0 0 1 1 0 0 0 0 1 1 1 1 1 1 1 0 1 0 0 0 0 1 1 0 1 1 1 0 0 1 0 0 1 1\n",
      " 1 1 1 0 1 0 0 0 1 1 0 1 0 1 1 1 0 0 1 1 0 0 0 1 0 0 1 1 0 0 0 0 0 1 1 0 0\n",
      " 0 0 0 0 0 0 1 1 0 1 1 1 1 0 0 0 0 1 0 0 0 0 1 0 0 1]\n"
     ]
    },
    {
     "data": {
      "image/png": "[encoded data removed]",
      "text/plain": [
       "<Figure size 432x288 with 1 Axes>"
      ]
     },
     "metadata": {
      "needs_background": "light"
     },
     "output_type": "display_data"
    }
   ],
   "source": [
    "# (Enter code here)\n",
    "kmeans = KMeans(n_clusters=2, random_state=0)\n",
    "kmeans.fit(x)\n",
    "labels = kmeans.labels_\n",
    "print( f'Fitted cluster labels:  {labels}' )\n",
    "lu.plot_labeled_points(x, labels, colors=['r','b'])"
   ]
  },
  {
   "cell_type": "markdown",
   "metadata": {},
   "source": [
    "### Question 1.1\n",
    "\n",
    "Are these clusters well separated?\n",
    "\n",
    "Answer \"Yes\" or \"No\""
   ]
  },
  {
   "cell_type": "markdown",
   "metadata": {},
   "source": [
    "<span style=\"background-color:powderblue;\">No because dw values are high</span>"
   ]
  },
  {
   "cell_type": "markdown",
   "metadata": {},
   "source": [
    "### Task 1.3\n",
    "\n",
    "Use `lu.average_distances` to justify your answer to Question 1.1."
   ]
  },
  {
   "cell_type": "code",
   "execution_count": 4,
   "metadata": {},
   "outputs": [
    {
     "name": "stdout",
     "output_type": "stream",
     "text": [
      "[0.77080194 0.8081959 ] 1.0\n"
     ]
    }
   ],
   "source": [
    "# (Enter code here)\n",
    "dw,db   = lu.average_distances(x, labels, ratios=True)\n",
    "print(dw, db)"
   ]
  },
  {
   "cell_type": "markdown",
   "metadata": {},
   "source": [
    "<br>\n",
    "<br>\n",
    "<br>"
   ]
  },
  {
   "cell_type": "markdown",
   "metadata": {},
   "source": [
    "___\n",
    "\n",
    "## Part 2:  &nbsp; Supervised learning\n",
    "\n",
    "<br>\n",
    "\n",
    "Part 2 uses:\n",
    "\n",
    "* Learning algorithim: &nbsp; **K-Nearest Neighbors Clustering**\n",
    "* Data file: &nbsp; **Assn10-dataset-with-labels.csv**"
   ]
  },
  {
   "cell_type": "markdown",
   "metadata": {},
   "source": [
    "### Task 2.1\n",
    "\n",
    "Run the code in the cell below to verify that you can load the data file and separate the columns into data and labels."
   ]
  },
  {
   "cell_type": "code",
   "execution_count": 10,
   "metadata": {},
   "outputs": [
    {
     "name": "stdout",
     "output_type": "stream",
     "text": [
      "[1, 0]\n",
      "2\n"
     ]
    }
   ],
   "source": [
    "# run the code in this cell to verify that you can load and plot the data\n",
    "fnameCSV = 'Assn10-dataset-with-labels.csv' \n",
    "A        = np.loadtxt(fnameCSV, delimiter=',') \n",
    "x        = A[:,0:2]  # the data are stored in first two columns\n",
    "labels   = np.asarray( A[:,2] , dtype=int)  # the labels are stored in the third column\n",
    "\n",
    "\n",
    "# count unique labels\n",
    "count = []\n",
    "for i in labels:\n",
    "    m = 0\n",
    "    for j in count:\n",
    "        if i == j:\n",
    "            m = 1\n",
    "    if m==0:\n",
    "        count.append(i)\n",
    "        \n",
    "print(count)\n",
    "print(len(count))"
   ]
  },
  {
   "cell_type": "markdown",
   "metadata": {},
   "source": [
    "### Question 2.1\n",
    "\n",
    "How many unique labels does this dataset have?"
   ]
  },
  {
   "cell_type": "markdown",
   "metadata": {},
   "source": [
    "<span style=\"background-color:powderblue;\">2</span>"
   ]
  },
  {
   "cell_type": "markdown",
   "metadata": {},
   "source": [
    "### Task 2.2\n",
    "\n",
    "Use `lu.plot_labeled_points` to plot the labeled data."
   ]
  },
  {
   "cell_type": "code",
   "execution_count": 6,
   "metadata": {},
   "outputs": [
    {
     "data": {
      "image/png": "[encoded data removed]",
      "text/plain": [
       "<Figure size 432x288 with 1 Axes>"
      ]
     },
     "metadata": {
      "needs_background": "light"
     },
     "output_type": "display_data"
    }
   ],
   "source": [
    "# (Enter code here)\n",
    "lu.plot_labeled_points(x, labels, colors=['r','b'])\n",
    "plt.legend()\n",
    "plt.show()"
   ]
  },
  {
   "cell_type": "markdown",
   "metadata": {},
   "source": [
    "### Question 2.2\n",
    "\n",
    "Is there more overlap between the clusters than the K-Means results?   &nbsp; &nbsp; (see Task 1.2 results)\n",
    "\n",
    "Answer \"Yes\" or \"No\""
   ]
  },
  {
   "cell_type": "markdown",
   "metadata": {},
   "source": [
    "<span style=\"background-color:powderblue;\">Yes</span>"
   ]
  },
  {
   "cell_type": "markdown",
   "metadata": {},
   "source": [
    "### Task 2.3\n",
    "\n",
    "Use KNN to conduct supervised classification, then use `lu.plot_decision_surface` to plot the decision surface."
   ]
  },
  {
   "cell_type": "code",
   "execution_count": 7,
   "metadata": {},
   "outputs": [
    {
     "data": {
      "image/png": "[encoded data removed]",
      "text/plain": [
       "<Figure size 576x432 with 1 Axes>"
      ]
     },
     "metadata": {
      "needs_background": "light"
     },
     "output_type": "display_data"
    }
   ],
   "source": [
    "# (Enter code here)\n",
    "knn    = KNeighborsClassifier(n_neighbors=2)\n",
    "knn.fit(x, labels)\n",
    "plt.figure( figsize=(8,6) )\n",
    "lu.plot_decision_surface(knn, colors=['b','r','g'], n=50, alpha=0.3, marker_size=200, marker_alpha=0.7)"
   ]
  },
  {
   "cell_type": "markdown",
   "metadata": {},
   "source": [
    "### Question 2.3\n",
    "\n",
    "Does the decision boundary look linear, like in the K-Means analysis?   &nbsp; &nbsp; (see Task 1.2 results)\n",
    "\n",
    "Answer \"Yes\" or \"No\""
   ]
  },
  {
   "cell_type": "markdown",
   "metadata": {},
   "source": [
    "<span style=\"background-color:powderblue;\">No</span>"
   ]
  },
  {
   "cell_type": "markdown",
   "metadata": {},
   "source": [
    "### Question 2.4\n",
    "\n",
    "What is the classification rate for this fitted KNN classifier?\n",
    "\n",
    "Answer this question in a Python cell using `lu.classification_rate`."
   ]
  },
  {
   "cell_type": "code",
   "execution_count": 8,
   "metadata": {},
   "outputs": [
    {
     "name": "stdout",
     "output_type": "stream",
     "text": [
      "Actual test set labels: [1 1]\n",
      "Predicted labels: [0 1]\n",
      "Classification rate: 0.5\n"
     ]
    }
   ],
   "source": [
    "# (Enter code here)\n",
    "\n",
    "x_train,x_test,labels_train,labels_test = lu.get_random_train_test_sets(x, labels, ntest=2)\n",
    "\n",
    "knn = KNeighborsClassifier(n_neighbors=3)\n",
    "knn.fit(x_train, labels_train)\n",
    "labels_predicted = knn.predict(x_test)\n",
    "\n",
    "cr = lu.classification_rate(labels_test, labels_predicted)\n",
    "\n",
    "print(f'Actual test set labels: {labels_test}')\n",
    "print(f'Predicted labels: {labels_predicted}')\n",
    "print(f'Classification rate: {cr}')"
   ]
  },
  {
   "cell_type": "markdown",
   "metadata": {},
   "source": [
    "<br>\n",
    "<br>\n",
    "<br>"
   ]
  },
  {
   "cell_type": "markdown",
   "metadata": {},
   "source": [
    "___\n",
    "\n",
    "# BONUS (+1)\n",
    "\n",
    "Use iterative simulation to validate the classification rate you calculated in Question 2.4.\n",
    "\n",
    "Use 10 observations for the test set and at least 100 iterations."
   ]
  },
  {
   "cell_type": "code",
   "execution_count": 9,
   "metadata": {},
   "outputs": [
    {
     "name": "stdout",
     "output_type": "stream",
     "text": [
      "Classification rates from individual iterations: [1.0, 0.875, 1.0, 1.0, 1.0, 1.0, 1.0, 0.9, 1.0, 0.8, 1.0, 1.0, 0.9, 1.0, 1.0, 1.0, 0.8, 1.0, 1.0, 0.9, 1.0, 1.0, 1.0, 0.9, 1.0, 0.8888888888888888, 0.9, 1.0, 1.0, 0.9, 0.7, 0.9, 1.0, 1.0, 1.0, 1.0, 1.0, 1.0, 1.0, 0.8888888888888888, 1.0, 1.0, 1.0, 1.0, 0.9, 1.0, 1.0, 0.9, 1.0, 0.9, 1.0, 0.9, 0.875, 0.8888888888888888, 1.0, 1.0, 1.0, 1.0, 0.8, 0.9, 0.9, 1.0, 1.0, 0.9, 1.0, 1.0, 1.0, 0.8, 1.0, 1.0, 1.0, 1.0, 0.8888888888888888, 1.0, 0.8888888888888888, 1.0, 0.6, 1.0, 1.0, 1.0, 1.0, 0.8888888888888888, 0.7777777777777778, 1.0, 0.9, 0.9, 0.9, 1.0, 1.0, 1.0, 1.0, 0.9, 0.8, 0.9, 0.9, 1.0, 1.0, 1.0, 1.0, 1.0]\n",
      "\n",
      "Overall classification rate: 0.9516111111111113\n"
     ]
    }
   ],
   "source": [
    "# (Enter code here)\n",
    "\n",
    "np.random.seed(0)\n",
    "CR          = []  # store the classification rates for each iteration\n",
    "niterations = 100\n",
    "\n",
    "for i in range(niterations):\n",
    "    x_train,x_test,labels_train,labels_test = lu.get_random_train_test_sets(x, labels, ntest=10)\n",
    "    knn     = KNeighborsClassifier(n_neighbors=7)\n",
    "    knn.fit(x_train, labels_train)\n",
    "    labelsp = knn.predict(x_test)\n",
    "    cr      = lu.classification_rate(labels_test, labelsp)\n",
    "    CR.append(cr)\n",
    "cr  = np.mean(CR)\n",
    "\n",
    "\n",
    "print(f'Classification rates from individual iterations: {CR}')\n",
    "print()\n",
    "print(f'Overall classification rate: {cr}')"
   ]
  },
  {
   "cell_type": "code",
   "execution_count": null,
   "metadata": {},
   "outputs": [],
   "source": []
  }
 ],
 "metadata": {
  "kernelspec": {
   "display_name": "Python 3",
   "language": "python",
   "name": "python3"
  },
  "language_info": {
   "codemirror_mode": {
    "name": "ipython",
    "version": 3
   },
   "file_extension": ".py",
   "mimetype": "text/x-python",
   "name": "python",
   "nbconvert_exporter": "python",
   "pygments_lexer": "ipython3",
   "version": "3.7.3"
  }
 },
 "nbformat": 4,
 "nbformat_minor": 2
}
