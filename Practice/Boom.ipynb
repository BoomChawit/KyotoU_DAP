{
 "cells": [
  {
   "cell_type": "code",
   "execution_count": null,
   "metadata": {},
   "outputs": [],
   "source": [
    "x = int(input(\"Input a dominator: \"));y = str(1/x); print(y);r=0\n",
    "for j in range(2,10):\n",
    "    if y[j]!='0':r=j;break\n",
    "    elif y[j]=='0':\n",
    "        for b in range(j+1,10):\n",
    "            if y[b]==y[j] and y[b+1]==y[j+1] and y[b+2]==y[j+2]:r=j;break\n",
    "    if r != 0:break\n",
    "for i in range(r+1,r+10):\n",
    "    if y[i]==y[r] and y[i+1]==y[r+1] and y[i+2]==y[r+2]:\n",
    "        print(y[0:r],\"(%s)\"%y[r:i]);b=str(y[r:i]);break\n",
    "for i in range(r+1,r+10):\n",
    "    if y[i]==y[r] and y[i+1]==y[r+1] and y[i+2]==y[r+2]:\n",
    "        if str(y[r:i])==b:break;\n",
    "        else:print(y[0:r],\"(%s)\"%y[r:i]);break\n",
    "    else:r=r+1"
   ]
  },
  {
   "cell_type": "code",
   "execution_count": null,
   "metadata": {},
   "outputs": [],
   "source": []
  },
  {
   "cell_type": "code",
   "execution_count": null,
   "metadata": {},
   "outputs": [],
   "source": []
  }
 ],
 "metadata": {
  "kernelspec": {
   "display_name": "Python 3",
   "language": "python",
   "name": "python3"
  },
  "language_info": {
   "codemirror_mode": {
    "name": "ipython",
    "version": 3
   },
   "file_extension": ".py",
   "mimetype": "text/x-python",
   "name": "python",
   "nbconvert_exporter": "python",
   "pygments_lexer": "ipython3",
   "version": "3.7.3"
  }
 },
 "nbformat": 4,
 "nbformat_minor": 2
}
