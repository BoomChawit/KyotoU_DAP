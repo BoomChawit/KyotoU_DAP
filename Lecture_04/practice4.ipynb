{
 "cells": [
  {
   "cell_type": "code",
   "execution_count": 1,
   "metadata": {},
   "outputs": [
    {
     "data": {
      "text/plain": [
       "'/Users/boomchawit/KyotoU/data_analysis_practice'"
      ]
     },
     "execution_count": 1,
     "metadata": {},
     "output_type": "execute_result"
    }
   ],
   "source": [
    "pwd"
   ]
  },
  {
   "cell_type": "code",
   "execution_count": 17,
   "metadata": {},
   "outputs": [
    {
     "name": "stdout",
     "output_type": "stream",
     "text": [
      "[[ 0.81991023 -1.81859613 -2.35768136]\n",
      " [ 0.49766023 -0.41506228 -0.39745377]\n",
      " [ 1.79959673  0.9465943  -0.03080868]\n",
      " [ 0.22585062 -1.72740324 -1.00122265]\n",
      " [-1.30379262  0.43472831  1.34712725]\n",
      " [-0.50963832 -0.37719949 -0.57644578]\n",
      " [ 0.05614536 -0.04399122 -0.86047655]\n",
      " [-1.68679734 -0.83404788 -0.63336219]\n",
      " [-0.15839844 -0.0155667   0.17345619]\n",
      " [-2.01731304 -0.13284191  0.16811258]]\n",
      "[array([ 0.81991023, -1.81859613, -2.35768136]), array([ 0.49766023, -0.41506228, -0.39745377]), array([ 1.79959673,  0.9465943 , -0.03080868]), array([ 0.22585062, -1.72740324, -1.00122265]), array([-1.30379262,  0.43472831,  1.34712725]), array([-0.50963832, -0.37719949, -0.57644578]), array([ 0.05614536, -0.04399122, -0.86047655]), array([-1.68679734, -0.83404788, -0.63336219]), array([-0.15839844, -0.0155667 ,  0.17345619]), array([-2.01731304, -0.13284191,  0.16811258])]\n"
     ]
    }
   ],
   "source": [
    "import numpy as np\n",
    "\n",
    "a = np.random.randn(10,3)\n",
    "\n",
    "x0 = a[:,0]\n",
    "x1 = a[0,:]\n",
    "\n",
    "x2 = a[:,1]\n",
    "#c0,c1,c2,c3,c4,c5,c6,c7,c8,c9 = a\n",
    "print(a)\n",
    "\n",
    "print([cc for cc in a])"
   ]
  },
  {
   "cell_type": "code",
   "execution_count": null,
   "metadata": {},
   "outputs": [],
   "source": []
  }
 ],
 "metadata": {
  "kernelspec": {
   "display_name": "Python 3",
   "language": "python",
   "name": "python3"
  },
  "language_info": {
   "codemirror_mode": {
    "name": "ipython",
    "version": 3
   },
   "file_extension": ".py",
   "mimetype": "text/x-python",
   "name": "python",
   "nbconvert_exporter": "python",
   "pygments_lexer": "ipython3",
   "version": "3.7.3"
  }
 },
 "nbformat": 4,
 "nbformat_minor": 2
}
