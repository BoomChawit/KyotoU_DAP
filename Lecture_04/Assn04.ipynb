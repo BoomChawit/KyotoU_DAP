{
 "cells": [
  {
   "cell_type": "markdown",
   "metadata": {},
   "source": [
    "# Assn04\n",
    "\n",
    "**Goal**: Use Python and Markdown to answer the quesitons below regarding dataset characteristics."
   ]
  },
  {
   "cell_type": "markdown",
   "metadata": {},
   "source": [
    "___\n",
    "\n",
    "## Dataset 1:  \"Socioeconomic\"\n",
    "\n",
    "Use the `socioeconomic.csv` dataset to answer the questions below.\n",
    "\n",
    "**Dataset description**\n",
    "\n",
    "* The `socioeconomic.csv` file contains 45 rows and 3 columns.\n",
    "* Rows represent job type (occupations)\n",
    "* Columns represent the following variables:\n",
    "    * `income` (thousands of dollars)\n",
    "    * `education` (rated 0 to 100)\n",
    "    * `prestige` (rated 0 to 100)\n",
    "* These data come from Duncan (1961)\n",
    "\n",
    "\n",
    "**Reference**\n",
    "\n",
    "Duncan, O. D. (1961) A socioeconomic index for all occupations. In Reiss, A. J., Jr. (Ed.) *Occupations and Social Status.* Free Press, Table VI-1.\n",
    "\n",
    "___"
   ]
  },
  {
   "cell_type": "markdown",
   "metadata": {},
   "source": [
    "**Task**:  Fill in the tables below with the appropriate central tendency and dispersion variables.\n",
    "\n",
    "* Use a Python cell (or Python cells) to calculate the variables' values.\n",
    "* Then edit the tables' Markdown cells to add the table values.\n",
    "* Use zero or one significant digit, as appropriate.\n",
    "* *Suggestion*: create functions called `central` and `dispersion` to calculate the central tendency and dispersion values for an arbitrary variable."
   ]
  },
  {
   "cell_type": "markdown",
   "metadata": {},
   "source": [
    "<center><b>Central tendency</b></center>\n",
    "\n",
    "Variable | Income | Education | Prestige\n",
    "------------ | ------------ | ------------- | -------------\n",
    "Mean | 41.9  |  52.6  | 47.7\n",
    "Median | 42.0 |  45.0  | 41.0\n",
    "Mode | 21.0  | 86.0   | 10.0"
   ]
  },
  {
   "cell_type": "markdown",
   "metadata": {},
   "source": [
    "<center><b>Dispersion</b></center>\n",
    "\n",
    "- | Income | Education | Prestige\n",
    "------------ | ------------ | ------------- | -------------\n",
    "Min | 7.0  |  7.0  | 3.0\n",
    "Max | 81.0  | 100.0   | 97.0\n",
    "Range |  74.0 |  93.0  | 94.0\n",
    "25th Percentile | 21.0  | 26.0   | 16.0\n",
    "75th Percentile |  64.0 |  84.0  | 81.0\n",
    "Inter-quartile range |  583.8 | 866.0  | 970.8\n",
    "Standard deviation | 24.2  | 29.4   | 31.2"
   ]
  },
  {
   "cell_type": "code",
   "execution_count": 56,
   "metadata": {},
   "outputs": [
    {
     "name": "stdout",
     "output_type": "stream",
     "text": [
      "income (41.86666666666667, 42.0, 21, 0.13333333333333286)\n",
      "education (52.55555555555556, 45.0, 86, 7.555555555555557)\n",
      "pretige (47.68888888888889, 41.0, 10, 6.68888888888889)\n",
      "income (7.0, 81.0, 74.0, 21.0, 64.0, 43.0, 583.8044444444444, 24.162045535186884)\n",
      "education (7.0, 100.0, 93.0, 26.0, 84.0, 58.0, 866.0246913580247, 29.428297459384645)\n",
      "prestige (3.0, 97.0, 94.0, 16.0, 81.0, 65.0, 970.8365432098767, 31.15825000236497)\n"
     ]
    }
   ],
   "source": [
    "%matplotlib inline\n",
    "\n",
    "import numpy as np\n",
    "from scipy import stats\n",
    "from matplotlib import pyplot as plt\n",
    "\n",
    "def central(a: list):\n",
    "    mean = np.mean(a)\n",
    "    median = np.median(a)\n",
    "    result = stats.mode(a) # mode(s) and count(s)\n",
    "    mode = result.mode\n",
    "    return mean,median,int(mode),abs(mean-median)\n",
    "\n",
    "def dispersion(a: list):\n",
    "    y0 = np.min(a)  # minimum\n",
    "    y1 = np.max(a)  # maximum\n",
    "    y2 = y1 - y0      # range\n",
    "    y3 = np.percentile(a, 25 ) # 25th percentile (i.e., lower quartile)\n",
    "    y4 = np.percentile(a, 75 ) # 75th percentile (i.e., upper quartile)\n",
    "    y5 = y4 - y3 # inter-quartile range\n",
    "    y6 = np.var(a) # variance\n",
    "    y7 = np.std(a) # standard deviation\n",
    "    return y0,y1,y2,y3,y4,y5,y6,y7\n",
    "    \n",
    "n = np.loadtxt('socioeconomic.csv', delimiter=',')\n",
    "income,education,prestige = n.T\n",
    "print(\"income\",central(income))\n",
    "print(\"education\",central(education))\n",
    "print(\"pretige\", central(prestige))\n",
    "\n",
    "print(\"income\",dispersion(income))\n",
    "print(\"education\",dispersion(education))\n",
    "print(\"prestige\",dispersion(prestige))"
   ]
  },
  {
   "cell_type": "markdown",
   "metadata": {},
   "source": [
    "**Question**:  Which variable has the biggest difference between the mean and median?\n",
    "\n",
    "Delete the incorrect answers.\n",
    "\n",
    "* `education`"
   ]
  },
  {
   "cell_type": "markdown",
   "metadata": {},
   "source": [
    "**Question**:  Which variable has the biggest range?\n",
    "\n",
    "Delete the incorrect answers.\n",
    "\n",
    "* `prestige`"
   ]
  },
  {
   "cell_type": "markdown",
   "metadata": {},
   "source": [
    "**Question**:  Which variable has the biggest inter-quartile range?\n",
    "\n",
    "Delete the incorrect answers.\n",
    "\n",
    "\n",
    "* `prestige`"
   ]
  },
  {
   "cell_type": "markdown",
   "metadata": {},
   "source": [
    "___\n",
    "\n",
    "## Dataset 2: \"election96\"\n",
    "\n",
    "\n",
    "Use the `election96.csv` dataset to answer the questions below.\n",
    "\n",
    "**Dataset description**\n",
    "\n",
    "* The `election96.csv` file contains 944 rows and 4 columns.\n",
    "* Rows represent surveyed people\n",
    "* Columns represent: age, tvnews, income and vote, respectively.\n",
    "    * `age` (years)\n",
    "    * `tvnews` (number of times per week that persons watches TV news)\n",
    "    * `vote` (0 = Clinton, 1 = Dole)\n",
    "* These data are a subset of the data available at https://electionstudies.org\n",
    "\n",
    "___\n"
   ]
  },
  {
   "cell_type": "markdown",
   "metadata": {},
   "source": [
    "**Question**:  Did more people vote for Clinton or for Dole?\n",
    "\n",
    "Use Python calculations and/or figures to justify your answer.\n",
    "\n",
    "Use `print` commands in a Python cell to report your answer."
   ]
  },
  {
   "cell_type": "code",
   "execution_count": 43,
   "metadata": {},
   "outputs": [
    {
     "name": "stdout",
     "output_type": "stream",
     "text": [
      "Clinton\n"
     ]
    }
   ],
   "source": [
    "import numpy as np\n",
    "from scipy import stats\n",
    "from matplotlib import pyplot as plt\n",
    "\n",
    "n = np.loadtxt('election96.csv', delimiter=',')\n",
    "age,tvnews,vote = n.T\n",
    "#print(vote)\n",
    "n0 = (vote==0).sum()\n",
    "n1 = (vote==1).sum()\n",
    "#print(\"Clinton =\",n0)\n",
    "#print(\"Dole=\",n1)\n",
    "if (n0>n1):\n",
    "    print(\"Clinton\")\n",
    "elif (n1>n0):\n",
    "    print(\"Dole\")"
   ]
  },
  {
   "cell_type": "markdown",
   "metadata": {},
   "source": [
    "**Question**:  What are the mean, median and mode for `age`?\n",
    "\n",
    "Use the `print` command in a Python cell to report answers."
   ]
  },
  {
   "cell_type": "code",
   "execution_count": 60,
   "metadata": {},
   "outputs": [
    {
     "name": "stdout",
     "output_type": "stream",
     "text": [
      "mean =  47.043432203389834\n",
      "median = 44.0\n",
      "mode = 35\n"
     ]
    }
   ],
   "source": [
    "import numpy as np\n",
    "from scipy import stats\n",
    "\n",
    "n = np.loadtxt('election96.csv', delimiter=',')\n",
    "age = n[:,0]\n",
    "print(\"mean = \",np.mean(age))\n",
    "print(\"median =\", np.median(age))\n",
    "print(\"mode =\", int(stats.mode(age).mode))"
   ]
  },
  {
   "cell_type": "markdown",
   "metadata": {},
   "source": [
    "**Question**:  Calculate the primary dispersion variables `age`.\n",
    "\n",
    "Use `print` commands in a Python cell to report your answers.\n",
    "\n",
    "*Note*: Primary dispersion variables include: minimum, maximum, range, 25th percentile, 75th percentile, inter-quartile range, variance, and standard deviation."
   ]
  },
  {
   "cell_type": "code",
   "execution_count": 65,
   "metadata": {},
   "outputs": [
    {
     "name": "stdout",
     "output_type": "stream",
     "text": [
      "min= 19.0\n",
      "max= 91.0\n",
      "range 72.0\n",
      "25th Percentile= 34.0\n",
      "75th Percentile= 58.0\n",
      "inter-quartile range= 24.0\n",
      "variance= 269.4334949996409\n",
      "standard deviation 16.414429475301326\n"
     ]
    }
   ],
   "source": [
    "import numpy as np\n",
    "n = np.loadtxt('election96.csv', delimiter=',')\n",
    "a = n[:,0]\n",
    "\n",
    "print(\"min=\",np.min(a))\n",
    "print(\"max=\",np.max(a))\n",
    "print(\"range\",np.max(a)-np.min(a))\n",
    "print(\"25th Percentile=\",np.percentile(a, 25 ))\n",
    "print(\"75th Percentile=\",np.percentile(a, 75 ))\n",
    "print(\"inter-quartile range=\",np.percentile(a,75)-np.percentile(a,25))\n",
    "print(\"variance=\",np.var(a))\n",
    "print(\"standard deviation\",np.std(a))"
   ]
  },
  {
   "cell_type": "markdown",
   "metadata": {},
   "source": [
    "**Question**: How many of these surveeyed people lie in the inter-quartile range?\n",
    "\n",
    "Use `print` commands in a Python cell to report your answer."
   ]
  },
  {
   "cell_type": "code",
   "execution_count": 73,
   "metadata": {},
   "outputs": [
    {
     "name": "stdout",
     "output_type": "stream",
     "text": [
      "People in the inter-quartile range =  463\n"
     ]
    }
   ],
   "source": [
    "import numpy as np\n",
    "n = np.loadtxt('election96.csv', delimiter=',')\n",
    "a = n[:,0]\n",
    "\n",
    "n0 = (a<=np.percentile(a,25)).sum()\n",
    "n1 = (a>=np.percentile(a,75)).sum()\n",
    "print(\"People in the inter-quartile range = \",len(a) - n0 - n1)"
   ]
  },
  {
   "cell_type": "markdown",
   "metadata": {},
   "source": [
    "**Question**: Which variable (mean, median or mode) is the best indicator of central tendency for this dataset? \n",
    "\n",
    "Use a matplotlib figure to justify your answer."
   ]
  },
  {
   "cell_type": "code",
   "execution_count": 80,
   "metadata": {},
   "outputs": [
    {
     "data": {
      "image/png": "[encoded data removed]",
      "text/plain": [
       "<Figure size 432x288 with 1 Axes>"
      ]
     },
     "metadata": {
      "needs_background": "light"
     },
     "output_type": "display_data"
    }
   ],
   "source": [
    "import numpy as np\n",
    "from scipy import stats\n",
    "from matplotlib import pyplot as plt\n",
    "\n",
    "a = np.loadtxt('election96.csv', delimiter=',')\n",
    "n = a[:,0]\n",
    "\n",
    "plt.figure()\n",
    "plt.hist(n, bins=21, color='0.7')  # histogram with 21 bars\n",
    "plt.axvline( np.mean(n) , color=(1,0,0), label='Mean' )\n",
    "plt.axvline( np.median(n) , color='0.2', label='Median' )\n",
    "plt.axvline( int(stats.mode(age).mode) , color='b', label='Mode' )\n",
    "plt.legend()\n",
    "plt.show()\n",
    "\n",
    "print(\"The answer is Median because from the graph it is closer to the majority of data. Mode is not a good candidate as it is just the largest number of data.\")"
   ]
  },
  {
   "cell_type": "markdown",
   "metadata": {},
   "source": [
    "___\n",
    "\n",
    "### BONUS (+2)\n",
    "\n",
    "**Question**:  In the election96 dataset, which variable ( `age` or `tvnews` ) is *most normally distributed*?\n",
    "\n",
    "Use dataset descriptions, figures and/or `print` commands to justify your answer."
   ]
  },
  {
   "cell_type": "code",
   "execution_count": 1,
   "metadata": {},
   "outputs": [
    {
     "name": "stdout",
     "output_type": "stream",
     "text": [
      "(0.5242712405377081, -0.5504364874813326)\n",
      "(-0.019108643677581645, -1.5174866026177747)\n",
      "From the analysis due to teh vaule that is closer to zero, age is more normally distributed.\n"
     ]
    }
   ],
   "source": [
    "import numpy as np\n",
    "from scipy import stats\n",
    "from matplotlib import pyplot as plt\n",
    "\n",
    "def distributed(n):\n",
    "    z0 = stats.skew(n)\n",
    "    z1 = stats.kurtosis(n)\n",
    "    return z0,z1\n",
    "\n",
    "a = np.loadtxt('election96.csv', delimiter=',')\n",
    "age,tvnews,vote = a.T\n",
    "print(distributed(age))\n",
    "print(distributed(tvnews))\n",
    "\n",
    "print(\"From the analysis due to teh vaule that is closer to zero, age is more normally distributed.\")"
   ]
  }
 ],
 "metadata": {
  "kernelspec": {
   "display_name": "Python 3 (ipykernel)",
   "language": "python",
   "name": "python3"
  },
  "language_info": {
   "codemirror_mode": {
    "name": "ipython",
    "version": 3
   },
   "file_extension": ".py",
   "mimetype": "text/x-python",
   "name": "python",
   "nbconvert_exporter": "python",
   "pygments_lexer": "ipython3",
   "version": "3.8.8"
  }
 },
 "nbformat": 4,
 "nbformat_minor": 2
}
