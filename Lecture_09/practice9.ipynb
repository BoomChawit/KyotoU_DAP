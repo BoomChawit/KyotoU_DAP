{
 "cells": [
  {
   "cell_type": "code",
   "execution_count": 52,
   "metadata": {},
   "outputs": [
    {
     "name": "stdout",
     "output_type": "stream",
     "text": [
      "[[ 62.  86.  82.]\n",
      " [ 72.  76.  83.]\n",
      " [ 75.  92.  90.]\n",
      " [ 55.  90.  76.]\n",
      " [ 64.  86.  90.]\n",
      " [ 21.  84.  87.]\n",
      " [ 64.  93.  93.]\n",
      " [ 80. 100.  90.]\n",
      " [ 67.  87.  52.]\n",
      " [ 72.  86.  88.]\n",
      " [ 42.  74.  57.]\n",
      " [ 76.  98.  89.]\n",
      " [ 76.  97.  97.]\n",
      " [ 41.  84.  59.]\n",
      " [ 48.  91.  73.]\n",
      " [ 76.  34.  38.]\n",
      " [ 53.  45.  76.]\n",
      " [ 60.  56.  81.]\n",
      " [ 42.  44.  45.]\n",
      " [ 78.  82.  92.]\n",
      " [ 29.  72.  39.]\n",
      " [ 48.  55.  34.]\n",
      " [ 55.  71.  41.]\n",
      " [ 29.  50.  16.]\n",
      " [ 21.  23.  33.]\n",
      " [ 47.  39.  53.]\n",
      " [ 81.  28.  67.]\n",
      " [ 36.  32.  57.]\n",
      " [ 22.  22.  26.]\n",
      " [ 44.  25.  29.]\n",
      " [ 15.  29.  10.]\n",
      " [  7.   7.  15.]\n",
      " [ 42.  26.  19.]\n",
      " [  9.  19.  10.]\n",
      " [ 21.  15.  13.]\n",
      " [ 21.  20.  24.]\n",
      " [ 16.  26.  20.]\n",
      " [ 16.  28.   7.]\n",
      " [  9.  17.   3.]\n",
      " [ 14.  22.  16.]\n",
      " [ 12.  30.   6.]\n",
      " [ 17.  25.  11.]\n",
      " [  7.  20.   8.]\n",
      " [ 34.  47.  41.]\n",
      " [  8.  32.  10.]]\n"
     ]
    }
   ],
   "source": [
    "import os\n",
    "import numpy as np\n",
    "\n",
    "dirname = os.path.abspath(\"./\")\n",
    "# fname = os.path.join(dirname,\"practice9.txt\")\n",
    "# fid = open(fname, \"r\")\n",
    "# fid.close()\n",
    "# print(fid.closed)\n",
    "\n",
    "mname = os.path.join(dirname, \"socioeconomic.csv\")\n",
    "a = np.loadtxt(mname, delimiter=',')\n",
    "print(a)\n",
    "\n",
    "s"
   ]
  },
  {
   "cell_type": "code",
   "execution_count": null,
   "metadata": {},
   "outputs": [],
   "source": []
  }
 ],
 "metadata": {
  "kernelspec": {
   "display_name": "Python 3",
   "language": "python",
   "name": "python3"
  },
  "language_info": {
   "codemirror_mode": {
    "name": "ipython",
    "version": 3
   },
   "file_extension": ".py",
   "mimetype": "text/x-python",
   "name": "python",
   "nbconvert_exporter": "python",
   "pygments_lexer": "ipython3",
   "version": "3.7.3"
  }
 },
 "nbformat": 4,
 "nbformat_minor": 2
}
