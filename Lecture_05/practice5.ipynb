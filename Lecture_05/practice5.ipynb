{
 "cells": [
  {
   "cell_type": "code",
   "execution_count": 12,
   "metadata": {},
   "outputs": [
    {
     "name": "stdout",
     "output_type": "stream",
     "text": [
      "<built-in method sum of numpy.ndarray object at 0x10c985b70>\n"
     ]
    }
   ],
   "source": [
    "import numpy as np\n",
    "a = np.array([1,2,3,4,5])\n",
    "b = a>4\n",
    "print(b.sum)"
   ]
  },
  {
   "cell_type": "code",
   "execution_count": 27,
   "metadata": {},
   "outputs": [
    {
     "name": "stdout",
     "output_type": "stream",
     "text": [
      "Any: 7\n",
      "0.14285714285714285\n",
      "['1', '4', '2', '8', '5', '7']\n"
     ]
    }
   ],
   "source": [
    "x = int(input(\"Any: \"))\n",
    "y = str(1/x); print(y)\n",
    "for i in range (5,10):\n",
    "    if y[2]==y[i] and y[3]==y[i+1] and y[4]==y[i+2]: print([y[n] for n in range(2,i)]);break"
   ]
  },
  {
   "cell_type": "code",
   "execution_count": null,
   "metadata": {},
   "outputs": [],
   "source": [
    "x = int(input(\"Any: \"))\n",
    "y = str(1/x); print(y)\n",
    "for i in range (1,10):\n",
    "    for j in range (i,10):\n",
    "        if y[i]==y[j] and y[i+1]==y[j+1]: \n",
    "            print([y[n] for n in range(2,i-1)]);break"
   ]
  },
  {
   "cell_type": "code",
   "execution_count": 26,
   "metadata": {},
   "outputs": [
    {
     "name": "stdout",
     "output_type": "stream",
     "text": [
      "input a denominator:5\n",
      "1/5 is computed\n"
     ]
    },
    {
     "ename": "IndexError",
     "evalue": "list assignment index out of range",
     "output_type": "error",
     "traceback": [
      "\u001b[0;31m---------------------------------------------------------------------------\u001b[0m",
      "\u001b[0;31mIndexError\u001b[0m                                Traceback (most recent call last)",
      "\u001b[0;32m<ipython-input-26-f83c4a0cc75e>\u001b[0m in \u001b[0;36m<module>\u001b[0;34m\u001b[0m\n\u001b[1;32m      8\u001b[0m     \u001b[0mx\u001b[0m \u001b[0;34m=\u001b[0m \u001b[0mx\u001b[0m\u001b[0;34m*\u001b[0m\u001b[0;36m10\u001b[0m\u001b[0;34m\u001b[0m\u001b[0;34m\u001b[0m\u001b[0m\n\u001b[1;32m      9\u001b[0m     \u001b[0mquotient\u001b[0m \u001b[0;34m=\u001b[0m \u001b[0mx\u001b[0m\u001b[0;34m/\u001b[0m\u001b[0md\u001b[0m\u001b[0;34m\u001b[0m\u001b[0;34m\u001b[0m\u001b[0m\n\u001b[0;32m---> 10\u001b[0;31m     \u001b[0mremainder\u001b[0m\u001b[0;34m[\u001b[0m\u001b[0mcount\u001b[0m\u001b[0;34m]\u001b[0m \u001b[0;34m=\u001b[0m \u001b[0mx\u001b[0m\u001b[0;34m%\u001b[0m\u001b[0md\u001b[0m\u001b[0;34m\u001b[0m\u001b[0;34m\u001b[0m\u001b[0m\n\u001b[0m\u001b[1;32m     11\u001b[0m     \u001b[0;32mwhile\u001b[0m \u001b[0mi\u001b[0m \u001b[0;34m<\u001b[0m \u001b[0;36m10000\u001b[0m\u001b[0;34m:\u001b[0m\u001b[0;34m\u001b[0m\u001b[0;34m\u001b[0m\u001b[0m\n\u001b[1;32m     12\u001b[0m         \u001b[0;32mif\u001b[0m \u001b[0mremainder\u001b[0m\u001b[0;34m[\u001b[0m\u001b[0mcount\u001b[0m\u001b[0;34m]\u001b[0m \u001b[0;34m==\u001b[0m \u001b[0;36m0\u001b[0m \u001b[0;32mor\u001b[0m \u001b[0mremainder\u001b[0m\u001b[0;34m[\u001b[0m\u001b[0mcount\u001b[0m\u001b[0;34m]\u001b[0m\u001b[0;34m==\u001b[0m\u001b[0;34m[\u001b[0m\u001b[0mi\u001b[0m\u001b[0;34m]\u001b[0m\u001b[0;34m:\u001b[0m\u001b[0;34m\u001b[0m\u001b[0;34m\u001b[0m\u001b[0m\n",
      "\u001b[0;31mIndexError\u001b[0m: list assignment index out of range"
     ]
    }
   ],
   "source": [
    "from time import sleep\n",
    "d = int(input(\"input a denominator:\"))\n",
    "print(f\"1/{d} is computed\")\n",
    "remainder = []\n",
    "count = 0; done = False; x=1; i=0\n",
    "while not done:\n",
    "    count += 1\n",
    "    x = x*10\n",
    "    quotient = x/d\n",
    "    remainder[count] = x%d\n",
    "    while i < 10000:\n",
    "        if remainder[count] == 0 or remainder[count]==[i]:\n",
    "            print(f\"0.{remainder[count](remainder[count])}\")\n",
    "            sleep(0.5)\n",
    "            done = True\n",
    "        else: x = remainder[count]\n",
    "        i += 1  "
   ]
  },
  {
   "cell_type": "code",
   "execution_count": 29,
   "metadata": {},
   "outputs": [
    {
     "name": "stdout",
     "output_type": "stream",
     "text": [
      "Any: 7\n",
      "['1', '4', '2', '8', '5', '7', '1', '4', 'Boom']\n"
     ]
    }
   ],
   "source": [
    "x = int(input(\"Any: \"))\n",
    "y = str(1/x)\n",
    "a = [y[i] for i in range(2,10)]\n",
    "a.append('Boom')\n",
    "print(a)"
   ]
  },
  {
   "cell_type": "code",
   "execution_count": 5,
   "metadata": {},
   "outputs": [
    {
     "name": "stdout",
     "output_type": "stream",
     "text": [
      "Any: 7\n",
      "0.14285714285714285\n",
      "['1', '4', '2', '8', '5', '7']\n",
      "0.( 142857 )\n"
     ]
    }
   ],
   "source": [
    "x = int(input(\"Any: \"))\n",
    "y = str(1/x); print(y)\n",
    "for i in range (5,10):\n",
    "    if y[2]==y[i] and y[3]==y[i+1] and y[4]==y[i+2]: print([y[n] for n in range(2,i)]);j=i;break        \n",
    "print(\"0.(\",y[2:j],\")\")"
   ]
  },
  {
   "cell_type": "code",
   "execution_count": null,
   "metadata": {},
   "outputs": [],
   "source": []
  }
 ],
 "metadata": {
  "kernelspec": {
   "display_name": "Python 3",
   "language": "python",
   "name": "python3"
  },
  "language_info": {
   "codemirror_mode": {
    "name": "ipython",
    "version": 3
   },
   "file_extension": ".py",
   "mimetype": "text/x-python",
   "name": "python",
   "nbconvert_exporter": "python",
   "pygments_lexer": "ipython3",
   "version": "3.7.3"
  }
 },
 "nbformat": 4,
 "nbformat_minor": 2
}
