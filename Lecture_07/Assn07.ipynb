{
 "cells": [
  {
   "cell_type": "markdown",
   "metadata": {},
   "source": [
    "# Assn07:  Hypothesis testing\n",
    "\n",
    "Refer to the Lecture07 notes (available on PandA) when completing this assignment."
   ]
  },
  {
   "cell_type": "code",
   "execution_count": 1,
   "metadata": {},
   "outputs": [],
   "source": [
    "import numpy as np\n",
    "from scipy import stats"
   ]
  },
  {
   "cell_type": "markdown",
   "metadata": {},
   "source": [
    "___\n",
    "\n",
    "## Questions\n"
   ]
  },
  {
   "cell_type": "markdown",
   "metadata": {},
   "source": [
    "**Question**: Are a one-sample t test and a paired t test equivalent?  Why or why not?\n",
    "\n",
    "**Answer**: They are equivalent.\n",
    "\n",
    "We have to check if $\\bar{y}$ minus $\\bar{\\mu}$ equals to $\\bar{d}$ which is mean of difference of each $y_i$ and $\\mu _i$. \n",
    "\n",
    "First, we change $\\bar{y}$ to a sum of all y divided by n, \n",
    "$$\\bar{y} = \\frac{y_1 + y_2 + ... +y_i}{i}$$\n",
    "\n",
    "we change mu mean to a sum of all mu divided by n. \n",
    "$$\\bar{\\mu} = \\frac{\\mu_1 + \\mu_2 + ... +\\mu_i}{i}$$\n",
    "\n",
    "Then, we pair the each y to each mu.\n",
    "$$\\bar{y} - \\bar{\\mu} = \\frac{(y_1 + y_2 + ... +y_i)-(\\mu_1 + \\mu_2 + ... +\\mu_i)}{i}$$\n",
    "$$\\bar{y} - \\bar{\\mu} = \\frac{(y_1 - \\mu_1)+ (y_2 - \\mu_2) + ... + (y_i-\\mu_i)}{i}$$\n",
    "\n",
    "We then get the sum of difference of y and mu - all divided by n. Finally, we notice that they are equivalent.\n",
    "$$\\bar{y} - \\bar{\\mu} = \\frac{(y_1 - \\mu_1)+ (y_2 - \\mu_2) + ... + (y_i-\\mu_i)}{i} = \\bar{d}$$"
   ]
  },
  {
   "cell_type": "markdown",
   "metadata": {},
   "source": [
    "___\n",
    "\n",
    "**Question**: What is the difference between two-tailed and one-tailed results?\n",
    "\n",
    "**Answer**: One-tailed method does not consider only when the first dataset is higher than the other. It does not consider the other case when the first dataset is less than the other. This means two-tailed is typically more universal as it considers both cases."
   ]
  },
  {
   "cell_type": "markdown",
   "metadata": {},
   "source": [
    "___\n",
    "\n",
    "## t statistic calculations"
   ]
  },
  {
   "cell_type": "markdown",
   "metadata": {},
   "source": [
    "___\n",
    "\n",
    "**Task**: Use `np.mean` and `np.std` to compute the t statistic value for the \"One-sample t test\" example from the Lecture07 notes (see Equation 1).\n",
    "\n",
    "**Note!**  The function `np.std` uses `ddof=0` by default; for hypothesis testing you should use `np.std(y, ddof=1)`."
   ]
  },
  {
   "cell_type": "code",
   "execution_count": 13,
   "metadata": {},
   "outputs": [
    {
     "name": "stdout",
     "output_type": "stream",
     "text": [
      "t= 1.4492553137533357\n"
     ]
    }
   ],
   "source": [
    "# (Enter relevant calculations here)\n",
    "\n",
    "import numpy as np\n",
    "from scipy import stats\n",
    "y       = np.array([23, 15, -5, 7, 1, -10, 12, -8, 20, 8, -2, -5]) \n",
    "mean = np.mean(y)\n",
    "std = np.std(y, ddof = 1)\n",
    "t = mean/(std/(len(y))**0.5)\n",
    "print('t=',t)"
   ]
  },
  {
   "cell_type": "markdown",
   "metadata": {},
   "source": [
    "___\n",
    "\n",
    "**Task**: Use `np.mean` and `np.std` to compute the t statistic value for the \"Paired t test\" example from the Lecture07 notes (see Equation 2).\n",
    "\n",
    "**Note!**  The function `np.std` uses `ddof=0` by default; for hypothesis testing you should use `np.std(y, ddof=1)`."
   ]
  },
  {
   "cell_type": "code",
   "execution_count": 24,
   "metadata": {},
   "outputs": [
    {
     "name": "stdout",
     "output_type": "stream",
     "text": [
      "[ -2  -1   1   0  -6  -6  -5 -10  -4]\n",
      "t= -3.1428571428571423\n"
     ]
    }
   ],
   "source": [
    "# (Enter relevant calculations here)\n",
    "y_pre  = np.array( [3, 0, 6, 7, 4, 3, 2, 1, 4] )\n",
    "y_post = np.array( [5, 1, 5, 7, 10, 9, 7, 11, 8] )\n",
    "y_d = y_pre - y_post\n",
    "print(y_d)\n",
    "dmean = np.mean(y_d)\n",
    "dstd = np.std(y_d, ddof = 1)\n",
    "print(\"t=\", dmean/(dstd/(len(y_d))**0.5))"
   ]
  },
  {
   "cell_type": "markdown",
   "metadata": {},
   "source": [
    "___\n",
    "\n",
    "**Task**: Use `np.mean` and `np.std` to compute the t statistic value for the \"Two-sample t test\" example from the Lecture07 notes (see Equation 3).\n",
    "\n",
    "**Note!**  The function `np.std` uses `ddof=0` by default; for hypothesis testing you should use `np.std(y, ddof=1)`."
   ]
  },
  {
   "cell_type": "code",
   "execution_count": 43,
   "metadata": {},
   "outputs": [
    {
     "name": "stdout",
     "output_type": "stream",
     "text": [
      "t= -0.2372742730908139\n"
     ]
    }
   ],
   "source": [
    "# (Enter relevant calculations here)\n",
    "\n",
    "beginning = np.array( [3067, 2730, 2840, 2913, 2789] )\n",
    "end       = np.array( [3200, 2777, 2623, 3044, 2834] )\n",
    "\n",
    "bmean = np.mean(beginning)\n",
    "emean = np.mean(end)\n",
    "\n",
    "bstd = np.std(beginning, ddof = 1)\n",
    "estd = np.std(end, ddof = 1)\n",
    "\n",
    "nb = len(beginning)\n",
    "ne = len(end)\n",
    "\n",
    "d = (nb-1)*(bstd**2) + (ne-1)*(estd**2)\n",
    "std = (d/(ne+nb-2))**0.5\n",
    "t = (bmean - emean)/(std*(1/nb + 1/ne)**0.5)\n",
    "\n",
    "print('t=',t)"
   ]
  },
  {
   "cell_type": "markdown",
   "metadata": {},
   "source": [
    "___\n",
    "\n",
    "## Dataset analyses"
   ]
  },
  {
   "cell_type": "markdown",
   "metadata": {},
   "source": [
    "___\n",
    "\n",
    "**Task**: Use Python to conduct t tests for the datasets at the following links. Then fill in the table below.\n",
    "\n",
    "* [Dataset 1](https://www.youtube.com/watch?v=OHHhzLHakKA) (StatisticsHowTo)\n",
    "* [Dataset 2](http://www.statstutor.ac.uk/resources/uploaded/paired-t-test.pdf) (StatsTutor.co.uk)\n",
    "* [Dataset 3](https://www.statsdirect.com/help/parametric_methods/single_sample_t.htm) (StatsDirect.com)\n",
    "* [Dataset 4](https://www.youtube.com/watch?v=Q0V7WpzICI8) (MarinStatsLectures\n",
    "* [Dataset 5](http://sphweb.bumc.bu.edu/otlt/MPH-Modules/BS/SAS/SAS4-OneSampleTtest/SAS4-OneSampleTtest6.html) (Boston University)\n",
    "\n",
    "\n",
    "\n",
    "**Answer**: (Enter your answers in the table below. Report t and p values using 3 decimals. For example, use \"0.000\", not \"0.00012345\".)\n",
    "\n",
    "<br>\n",
    "\n",
    "Dataset |  Test type    | t    | p    | H0 rejected?\n",
    "------------ | ------------ | ------------- | ------------- | -------------\n",
    "<img width=50/> | <img width=100/> | <img width=100/> | <img width=100/> | <img width=100/> | <img width=100/>\n",
    "1      | Two-sample |     0.283      |     0.779       | Not\n",
    "2      | Paired t   |    -3.231      |     0.004       | Yes\n",
    "3      | One-sample |     4.152      |     0.000       | Yes\n",
    "4      |  Paired t  |     2.340      |     0.041       | Yes\n",
    "5      | One-sample |     7.719      |     0.000       | Yes\n"
   ]
  },
  {
   "cell_type": "code",
   "execution_count": 16,
   "metadata": {},
   "outputs": [
    {
     "name": "stdout",
     "output_type": "stream",
     "text": [
      "t1=-0.283 p1=0.779\n",
      "t2=-3.231 p2=0.004\n",
      "t3=4.512 p3=0.000\n",
      "t4=2.340 p4=0.041\n",
      "t5=7.719 p5=0.000\n"
     ]
    }
   ],
   "source": [
    "# (Enter relevant calculations here)\n",
    "import numpy as np\n",
    "from scipy import stats\n",
    "\n",
    "D1old = np.array([44,49,56,51,38,44,61,51,49,60,39,51,43,37,45])\n",
    "D1new = np.array([51,42,37,45,47,65,49,69,38,44,49,56,51,50,38])\n",
    "t1,p1    = stats.ttest_ind(D1old, D1new)\n",
    "print(\"t1=%.3f\"%t1,\"p1=%.3f\"%p1)\n",
    "\n",
    "D2old = np.array([18,21,16,22,19,24,17,21,23,18,14,16,16,19,18,20,12,22,15,17])\n",
    "D2new = np.array([22,25,17,24,16,29,20,23,19,20,15,15,18,26,18,24,18,25,19,16])\n",
    "t2,p2 = stats.ttest_rel(D2old, D2new)\n",
    "print(\"t2=%.3f\"%t2,\"p2=%.3f\"%p2)\n",
    "\n",
    "D3dat = np.array([128,127,118,115,144,142,133,140,132,131,111,132,149,122,139,119,136,129,126,128])\n",
    "mu3 = 120\n",
    "t3,p3 = stats.ttest_1samp(D3dat, mu3)\n",
    "print(\"t3=%.3f\"%t3,\"p3=%.3f\"%p3)\n",
    "\n",
    "D4old = np.array([135,142,137,122,147,151,131,117,154,143,133])\n",
    "D4new = np.array([127,145,131,125,132,147,119,125,132,139,122])\n",
    "t4,p4 = stats.ttest_rel(D4old, D4new)\n",
    "print(\"t4=%.3f\"%t4,\"p4=%.3f\"%p4)\n",
    "\n",
    "D5old = np.array([240,243,250,254,264,279,284,285,290,298,302,310,312,315,322,337,348,384,386,520])\n",
    "D5new = np.array([209,209,173,165,239,270,274,254,223,209,219,281,251,208,227,269,299,238,285,325])\n",
    "mu5 = 200\n",
    "t5,p5 = stats.ttest_1samp(D5old, mu5)\n",
    "print('t5=%.3f'%t5,\"p5=%.3f\"%p5)"
   ]
  },
  {
   "cell_type": "markdown",
   "metadata": {},
   "source": [
    "___\n",
    "\n",
    "# BONUS\n",
    "\n",
    "(No bonus problem for this assignment)"
   ]
  }
 ],
 "metadata": {
  "kernelspec": {
   "display_name": "Python 3 (ipykernel)",
   "language": "python",
   "name": "python3"
  },
  "language_info": {
   "codemirror_mode": {
    "name": "ipython",
    "version": 3
   },
   "file_extension": ".py",
   "mimetype": "text/x-python",
   "name": "python",
   "nbconvert_exporter": "python",
   "pygments_lexer": "ipython3",
   "version": "3.8.8"
  }
 },
 "nbformat": 4,
 "nbformat_minor": 2
}
