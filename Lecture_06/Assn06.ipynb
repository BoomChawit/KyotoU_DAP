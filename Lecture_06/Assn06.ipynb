{
 "cells": [
  {
   "cell_type": "markdown",
   "metadata": {},
   "source": [
    "# Assn06:  Probability, Random Variables\n",
    "\n",
    "Refer to the Lecture06 notes (available on PandA) when completing this assignment."
   ]
  },
  {
   "cell_type": "markdown",
   "metadata": {},
   "source": [
    "___\n",
    "\n",
    "**Question**: What is the main difference between analytical and numerical probability calculations?\n",
    "\n",
    "**Answer**: As far as I read the material, analytical probability calculation is applying mathematics equation to calculate probability. On the other hand, numerical probability calculation is generating random values to obtain probability from the proportion of number that exceeds the threshold."
   ]
  },
  {
   "cell_type": "markdown",
   "metadata": {},
   "source": [
    "___\n",
    "\n",
    "**Question**: What are two benefits of numerical probability calculations?\n",
    "\n",
    "**Answer**: First, it is beneficial when analytical probability cannot use equation to calculate probability variables. Second, it is used to validate analytical probability calculations."
   ]
  },
  {
   "cell_type": "markdown",
   "metadata": {},
   "source": [
    "___\n",
    "\n",
    "**Question**: Is the function depicted below a probability density function?  Why or why not? \n",
    "\n",
    "**Answer**: The characteristic of probability density function is the total probability is 1. However, as obviously seen, the total probability of the function depicted below is 0."
   ]
  },
  {
   "cell_type": "code",
   "execution_count": 1,
   "metadata": {},
   "outputs": [],
   "source": [
    "%matplotlib inline\n",
    "import numpy as np\n",
    "from scipy import stats\n",
    "from matplotlib import pyplot as plt"
   ]
  },
  {
   "cell_type": "code",
   "execution_count": 2,
   "metadata": {},
   "outputs": [
    {
     "data": {
      "image/png": "[encoded data removed]",
      "text/plain": [
       "<Figure size 432x288 with 1 Axes>"
      ]
     },
     "metadata": {
      "needs_background": "light"
     },
     "output_type": "display_data"
    }
   ],
   "source": [
    "from math import pi\n",
    "x = np.linspace(0, 2*pi, 1001)\n",
    "f = np.sin(x)\n",
    "\n",
    "plt.figure()\n",
    "ax = plt.axes()\n",
    "ax.plot(x, f)\n",
    "ax.axhline(0, color='k', linestyle=':')\n",
    "ax.set_xlabel('x', size=14)\n",
    "ax.set_ylabel('f(x)', size=14)\n",
    "plt.show()"
   ]
  },
  {
   "cell_type": "markdown",
   "metadata": {},
   "source": [
    "___\n",
    "\n",
    "**Question**: What are the mean and standard deviation values for the “standard normal” distribution?\n",
    "\n",
    "**Answer**: mean is 0 and standard deviation is 1 for 'standard normal' distribution."
   ]
  },
  {
   "cell_type": "markdown",
   "metadata": {},
   "source": [
    "___\n",
    "\n",
    "**Question**: For a uniform random variable $x$, what is the probability that $x$ is greater than 0.1?  Compute this probability both analytically and numerically using Python.\n",
    "\n",
    "**Answer**: The probability is 0.9. The code was obtained from lecture06 material."
   ]
  },
  {
   "cell_type": "code",
   "execution_count": 70,
   "metadata": {},
   "outputs": [
    {
     "name": "stdout",
     "output_type": "stream",
     "text": [
      "Uniform: P(x > 0.1) =  0.9\n",
      "Uniform (numerical result): P(x > 0.1) =  0.8931068931068931\n"
     ]
    }
   ],
   "source": [
    "# (Enter relevant calculations here)\n",
    "%matplotlib inline\n",
    "import numpy as np\n",
    "from scipy import stats\n",
    "from matplotlib import pyplot as plt\n",
    "\n",
    "x0   = np.linspace(-1, 2, 1001)\n",
    "pdf0 = stats.uniform.pdf(x0)\n",
    "p0 = stats.uniform.sf(0.1)\n",
    "print('Uniform: P(x > 0.1) = ', p0)\n",
    "\n",
    "x1 = np.random.rand(1001)\n",
    "p1 = (x1 > 0.1).mean()\n",
    "print('Uniform (numerical result): P(x > 0.1) = ', p1)"
   ]
  },
  {
   "cell_type": "markdown",
   "metadata": {},
   "source": [
    "___\n",
    "\n",
    "**Question**: In the previous question, were the analytical and numerical results exactly the same?  Why or why not?\n",
    "\n",
    "**Answer**: No, they are not the same as seen in the output above, but they are very close. The reason is that the random number generator is imperfect, so it only can approximate the true analytical distribution."
   ]
  },
  {
   "cell_type": "markdown",
   "metadata": {},
   "source": [
    "___\n",
    "\n",
    "**Task**: Complete the table below using analytical calculations.  Use three significant digits. Show your calculations in a Python cell.\n",
    "\n",
    "<br>\n",
    "\n",
    "\n",
    "Distribution |  $P(x>0)$    | $P(x>0.5)$    | $P(x>1.0)$    | $P(x>2.0)$    | $P(x>3.0)$\n",
    "------------ | ------------ | ------------- | ------------- | ------------- | -------------\n",
    "<img width=50/> | <img width=100/> | <img width=100/> | <img width=100/> | <img width=100/> | <img width=100/>\n",
    "Uniform      | 1.000        |  0.500             |  0.000             | 0.000         | 0.000\n",
    "Normal       | 0.500        |      0.309         |      0.159         |    0.023           | 0.001\n",
    "$\\chi^2$  ($\\nu=5$)   | 1.000          |  0.992             |    0.963           |   0.849            | 0.700"
   ]
  },
  {
   "cell_type": "code",
   "execution_count": 58,
   "metadata": {},
   "outputs": [
    {
     "name": "stdout",
     "output_type": "stream",
     "text": [
      "uniform(x > 0.0 ) = 1.0\n",
      "Normal (x > 0.0 ) = 0.5\n",
      "Chi    (x > 0.0 ) = 1.0\n",
      "-----------------------------------\n",
      "uniform(x > 0.5 ) = 0.5\n",
      "Normal (x > 0.5 ) = 0.3085375387259869\n",
      "Chi    (x > 0.5 ) = 0.9921232932326296\n",
      "-----------------------------------\n",
      "uniform(x > 1.0 ) = 0.0\n",
      "Normal (x > 1.0 ) = 0.15865525393145707\n",
      "Chi    (x > 1.0 ) = 0.9625657732472964\n",
      "-----------------------------------\n",
      "uniform(x > 2.0 ) = 0.0\n",
      "Normal (x > 2.0 ) = 0.022750131948179195\n",
      "Chi    (x > 2.0 ) = 0.8491450360846096\n",
      "-----------------------------------\n",
      "uniform(x > 3.0 ) = 0.0\n",
      "Normal (x > 3.0 ) = 0.0013498980316300933\n",
      "Chi    (x > 3.0 ) = 0.6999858358786276\n",
      "-----------------------------------\n"
     ]
    }
   ],
   "source": [
    "# (Enter relevant calculations here)\n",
    "%matplotlib inline\n",
    "import numpy as np\n",
    "from scipy import stats\n",
    "from matplotlib import pyplot as plt\n",
    "\n",
    "x0   = np.linspace(-1, 2, 1001)\n",
    "x1   = np.linspace(-4, 4, 1001)\n",
    "x2   = np.linspace(0, 20, 1001)\n",
    "\n",
    "pdf0 = stats.uniform.pdf(x0)\n",
    "pdf1 = stats.norm.pdf(x1)  \n",
    "pdf2 = stats.chi2.pdf(x2, 5)\n",
    "\n",
    "n = [0.0,0.5,1.0,2.0,3.0]\n",
    "for i in n:\n",
    "    print('uniform(x >',i,\") =\",stats.uniform.sf(i))\n",
    "    print('Normal (x >',i,\") =\",stats.norm.sf(i))\n",
    "    print('Chi    (x >',i,\") =\",stats.chi2.sf(i, 5))\n",
    "    print(\"-----------------------------------\")"
   ]
  },
  {
   "cell_type": "markdown",
   "metadata": {},
   "source": [
    "___\n",
    "\n",
    "## Bonus\n",
    "\n",
    "(+2 Points)\n",
    "\n",
    "Numerically verify the analytical survival functions for:\n",
    "1. the normal distribution, and\n",
    "2. the $\\chi^2$ distribution with 7 degrees of freedom\n",
    "\n",
    "*Hint*:\n",
    "* Refer to the **\"Numerically verifying survival functions\"** section in Lecture06.html (available on PandA). "
   ]
  },
  {
   "cell_type": "code",
   "execution_count": 68,
   "metadata": {},
   "outputs": [
    {
     "data": {
      "image/png": "[encoded data removed]",
      "text/plain": [
       "<Figure size 432x288 with 1 Axes>"
      ]
     },
     "metadata": {
      "needs_background": "light"
     },
     "output_type": "display_data"
    },
    {
     "data": {
      "image/png": "[encoded data removed]",
      "text/plain": [
       "<Figure size 432x288 with 1 Axes>"
      ]
     },
     "metadata": {
      "needs_background": "light"
     },
     "output_type": "display_data"
    }
   ],
   "source": [
    "# (Enter relevant calculations and figure(s) here)\n",
    "u0   = np.linspace(-4, 4, 1001)\n",
    "u1   = np.linspace(0, 20, 1001) \n",
    "sf0  = stats.norm.sf(u0)\n",
    "sf1  = stats.chi2.sf(u1,4)\n",
    "\n",
    "x0   = np.random.randn(10000)     # random values from the normal distribution\n",
    "x1   = np.random.chisquare(10000) # random values from the chisquare distribution\n",
    "u0n  = np.linspace(-4, 4, 51)     # thresholds for numerical survival function calculations \n",
    "u1n  = np.linspace(0,20,51)\n",
    "sf0n = [(x0>uu).mean() for uu in u0n]  # numerical survival function calculations for normal\n",
    "sf1n = [(x1>uu).mean() for uu in u1n]  # numerical survival function calculations for chisquare\n",
    "\n",
    "# print(u0n)\n",
    "# print(sf0n)\n",
    "# print(sf1n)\n",
    "\n",
    "# plot the analytical and numerical survival functions:\n",
    "plt.figure()\n",
    "ax = plt.axes()\n",
    "ax.plot(u0, sf0, linewidth=2, zorder=1, label='Analytical')\n",
    "ax.plot(u0n, sf0n, 'o', zorder=0, label='Numerical')\n",
    "ax.axhline(0, color='k', linestyle=':')\n",
    "ax.axhline(1, color='k', linestyle=':')\n",
    "ax.legend()\n",
    "ax.set_xlabel('u')\n",
    "ax.set_ylabel('P(x>u)')\n",
    "\n",
    "plt.figure()\n",
    "ax = plt.axes()\n",
    "ax.plot(u1, sf1, linewidth=2, zorder=1, label='Analytical')\n",
    "ax.plot(u1n, sf1n, 'o', zorder=0, label='Numerical')\n",
    "ax.axhline(0, color='k', linestyle=':')\n",
    "ax.axhline(1, color='k', linestyle=':')\n",
    "ax.legend()\n",
    "ax.set_xlabel('u')\n",
    "ax.set_ylabel('P(x>u)')\n",
    "plt.show()"
   ]
  },
  {
   "cell_type": "markdown",
   "metadata": {},
   "source": [
    "___\n",
    "\n",
    "## Bonus\n",
    "\n",
    "(+2 Points)\n",
    "\n",
    "If:\n",
    "* $x$ contains 10 values: 0, 1, 2, ... 9\n",
    "* $y$ contains 10 random values from the normal distribution\n",
    "\n",
    "Then:\n",
    "* What is the probability that the correlation coefficient (between $x$ and $y$) is greater than 0.5?\n",
    "\n",
    "*Hints*:\n",
    "* Calculate this probability numerically using 10000 different sets of random data\n",
    "* Refer to Lecture 05 for correlation coefficient calculations."
   ]
  },
  {
   "cell_type": "code",
   "execution_count": 106,
   "metadata": {},
   "outputs": [
    {
     "name": "stdout",
     "output_type": "stream",
     "text": [
      "the probability is 0.0718\n"
     ]
    }
   ],
   "source": [
    "# (Enter relevant calculations and figure(s) here)\n",
    "x = np.linspace(0,9,10) #Create x\n",
    "r = [] #create list r\n",
    "for i in range (1,10000):\n",
    "    y = np.random.randn(10)\n",
    "    s = np.corrcoef(x, y)[0,1]\n",
    "    r.append(s) #put every coefficient in list r\n",
    "\n",
    "r = np.array(r) #change r to array to compute the next line\n",
    "g = (r > 0.5).mean() #get probability\n",
    "print(\"the probability is %.4f\" %g) "
   ]
  }
 ],
 "metadata": {
  "kernelspec": {
   "display_name": "Python 3 (ipykernel)",
   "language": "python",
   "name": "python3"
  },
  "language_info": {
   "codemirror_mode": {
    "name": "ipython",
    "version": 3
   },
   "file_extension": ".py",
   "mimetype": "text/x-python",
   "name": "python",
   "nbconvert_exporter": "python",
   "pygments_lexer": "ipython3",
   "version": "3.8.8"
  }
 },
 "nbformat": 4,
 "nbformat_minor": 2
}
