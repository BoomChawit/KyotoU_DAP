{
 "cells": [
  {
   "cell_type": "markdown",
   "metadata": {},
   "source": [
    "# Object Oriented Programming (OOP)\n",
    "\n",
    "Example: Soccer Ball\n",
    "\n",
    "Properties (Nouns) (Variables):\n",
    "- Position\n",
    "- Velocity\n",
    "\n",
    "Methods (Verbs) (Functions):\n",
    "- Kick\n",
    "- Stop"
   ]
  },
  {
   "cell_type": "code",
   "execution_count": 12,
   "metadata": {},
   "outputs": [
    {
     "name": "stdout",
     "output_type": "stream",
     "text": [
      "[0 0]\n",
      "You kicked the ball!\n",
      "[10  0]\n",
      "You kicked the ball!\n",
      "[20  0]\n",
      "Ball stopped.\n",
      "[0 0]\n"
     ]
    }
   ],
   "source": [
    "import numpy as np\n",
    "\n",
    "class SoccerBall:\n",
    "    def __init__ (self):\n",
    "        self.position = np.array([0,0])\n",
    "        self.velocity = np.array([0,0])\n",
    "        \n",
    "    def kick(self):\n",
    "        print('You kicked the ball!')\n",
    "        self.velocity = self.velocity + np.array([10,0])\n",
    "        \n",
    "    def stop(self):\n",
    "        print('Ball stopped.')\n",
    "        self.velocity = np.array([0,0])\n",
    "        \n",
    "obj = SoccerBall()\n",
    "print(obj.velocity)\n",
    "obj.kick()\n",
    "print(obj.velocity)\n",
    "obj.kick()\n",
    "print(obj.velocity)\n",
    "obj.stop()\n",
    "print(obj.velocity)"
   ]
  },
  {
   "cell_type": "markdown",
   "metadata": {},
   "source": [
    "# Line\n",
    "\n",
    "Goal: Create a line object and then plot it\n",
    "\n",
    "Final code:\n",
    "\n",
    "a = Line(0. 0. 1. 2)\n",
    "\n",
    "a.plot\n"
   ]
  },
  {
   "cell_type": "code",
   "execution_count": 29,
   "metadata": {},
   "outputs": [
    {
     "data": {
      "image/png": "[encoded data removed]",
      "text/plain": [
       "<Figure size 432x288 with 1 Axes>"
      ]
     },
     "metadata": {
      "needs_background": "light"
     },
     "output_type": "display_data"
    }
   ],
   "source": [
    "%matplotlib inline\n",
    "from matplotlib import pyplot as plt\n",
    "import numpy as np\n",
    "\n",
    "class CreateLine:\n",
    "    def __init__ (self,x0,y0,x1,y1):\n",
    "        self.x = np.array([x0,x1])\n",
    "        self.y = np.array([y0,y1])\n",
    "    \n",
    "    def plotgraph(self):\n",
    "        plt.plot(self.x,self.y,'o-')\n",
    "\n",
    "a = CreateLine(0,0,1,2)\n",
    "b = CreateLine(3,1,-2,5)\n",
    "c = CreateLine(-1,-3,1,4)\n",
    "\n",
    "a.plotgraph()\n",
    "b.plotgraph()\n",
    "c.plotgraph()"
   ]
  },
  {
   "cell_type": "code",
   "execution_count": 30,
   "metadata": {},
   "outputs": [
    {
     "name": "stdout",
     "output_type": "stream",
     "text": [
      "[1 3 5 8 3]\n",
      "(5,)\n",
      "5\n",
      "4.0\n",
      "8\n"
     ]
    }
   ],
   "source": [
    "a = np.array([1,3,5,8,3])\n",
    "print(a)\n",
    "print(a.shape) #nouns\n",
    "print(a.size) #nouns\n",
    "print(a.mean()) #verbs\n",
    "print(a.max()) #verbs"
   ]
  },
  {
   "cell_type": "code",
   "execution_count": 35,
   "metadata": {},
   "outputs": [
    {
     "name": "stdout",
     "output_type": "stream",
     "text": [
      "6\n",
      "6\n"
     ]
    }
   ],
   "source": [
    "a = 5\n",
    "print(a+1)\n",
    "print(a.__add__(1))"
   ]
  },
  {
   "cell_type": "markdown",
   "metadata": {},
   "source": [
    "# Other OOP Languages:\n",
    "\n",
    "Java\n",
    "\n",
    "C++"
   ]
  }
 ],
 "metadata": {
  "kernelspec": {
   "display_name": "Python 3 (ipykernel)",
   "language": "python",
   "name": "python3"
  },
  "language_info": {
   "codemirror_mode": {
    "name": "ipython",
    "version": 3
   },
   "file_extension": ".py",
   "mimetype": "text/x-python",
   "name": "python",
   "nbconvert_exporter": "python",
   "pygments_lexer": "ipython3",
   "version": "3.8.8"
  }
 },
 "nbformat": 4,
 "nbformat_minor": 2
}
