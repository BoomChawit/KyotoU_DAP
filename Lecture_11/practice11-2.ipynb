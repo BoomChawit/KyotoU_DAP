{
 "cells": [
  {
   "cell_type": "markdown",
   "metadata": {},
   "source": [
    "# Machine Learning\n",
    "\n",
    "## Principal Component Analysis (PCA)\n",
    "\n",
    "sklearn = Scikit Learn"
   ]
  },
  {
   "cell_type": "code",
   "execution_count": 2,
   "metadata": {},
   "outputs": [],
   "source": [
    "%matplotlib inline\n",
    "from sklearn.decomposition import PCA\n",
    "from matplotlib import pyplot as plt\n",
    "import numpy as np"
   ]
  },
  {
   "cell_type": "code",
   "execution_count": 5,
   "metadata": {},
   "outputs": [
    {
     "name": "stdout",
     "output_type": "stream",
     "text": [
      "[[0.47607743 0.87940336]]\n",
      "\n",
      "[0.97023792]\n",
      "\n",
      "0.9999999889346944\n"
     ]
    }
   ],
   "source": [
    "n = 50\n",
    "x0 = np.linspace(-1,1,n)\n",
    "x1 = 1.5*x0 + 0\n",
    "\n",
    "np.random.seed(0)\n",
    "x0 = x0 + 0.2*np.random.randn(n)\n",
    "x1 = x1 + 0.2*np.random.randn(n)\n",
    "\n",
    "x = np.vstack([x0,x1]).T\n",
    "# print(x.shape)\n",
    "# print(x)\n",
    "\n",
    "# x is an (m,n) array\n",
    "# m is number of observations\n",
    "# n is number of variables\n",
    "\n",
    "#PCA\n",
    "pca = PCA(n_components=1)\n",
    "pca.fit(x)\n",
    "\n",
    "print(pca.components_)\n",
    "print()\n",
    "print(pca.explained_variance_ratio_)\n",
    "print()\n",
    "#print(dir(pca))\n",
    "\n",
    "# a principal component is a unit vector that points in a particular direction\n",
    "a = 0.47607743 \n",
    "b = 0.87940336\n",
    "print(a**2 + b**2)\n",
    "\n",
    "\n",
    "# plt.figure()\n",
    "# plt.plot(x0,x1,'o')\n",
    "# x0,y0 = pca.components_[0]\n",
    "# x1,y1 = pca.components_[1]\n",
    "# plt.plot([0,x0],[0,y0], color = 'green')\n",
    "# plt.plot([0,x1],[0,y1], color = 'red')\n",
    "# plt.axis(\"equal\")\n",
    "# plt.show()"
   ]
  }
 ],
 "metadata": {
  "kernelspec": {
   "display_name": "Python 3 (ipykernel)",
   "language": "python",
   "name": "python3"
  },
  "language_info": {
   "codemirror_mode": {
    "name": "ipython",
    "version": 3
   },
   "file_extension": ".py",
   "mimetype": "text/x-python",
   "name": "python",
   "nbconvert_exporter": "python",
   "pygments_lexer": "ipython3",
   "version": "3.8.8"
  }
 },
 "nbformat": 4,
 "nbformat_minor": 2
}
