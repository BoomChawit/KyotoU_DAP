{
 "cells": [
  {
   "cell_type": "markdown",
   "metadata": {},
   "source": [
    "# Assignment 01: My First Jupyter Notebook\n",
    "The purpose of this assignment is learn the main features of Jupyter notebooks.\n",
    "_______"
   ]
  },
  {
   "cell_type": "markdown",
   "metadata": {},
   "source": [
    "# (1) Text\n",
    "It is easy to write in Markdown using *italics* and **bold.**\n",
    "It is also easy to ~~cross out~~ words.\n",
    "マークダウンは日本語も簡単にできます\n",
    "___"
   ]
  },
  {
   "cell_type": "markdown",
   "metadata": {},
   "source": [
    "# (2) Headings\n",
    "## This is a Heading (Level 2)\n",
    "### This is a Heading (Level 3)\n",
    "##### This is a Heading (Level 4)\n",
    "___"
   ]
  },
  {
   "cell_type": "markdown",
   "metadata": {},
   "source": [
    "___\n",
    "## (3) Decorations\n",
    "Type \"___\" to display a horizontal line:\n",
    "___"
   ]
  },
  {
   "cell_type": "markdown",
   "metadata": {},
   "source": [
    "# (4) Lists\n",
    "This is a numbered list:\n",
    "\n",
    "1. This is the first item\n",
    "1. This is the second item\n",
    "1. This is the third item\n",
    "___\n",
    "This is a normal list:\n",
    "* point This is the first item\n",
    "* point This is the second item\n",
    "* point This is the third item\n",
    "___"
   ]
  },
  {
   "cell_type": "markdown",
   "metadata": {},
   "source": [
    "# (5) Tables\n",
    "This is a table:\n",
    "\n",
    "Row |\tColumn 1 |\tColumn 2\n",
    "---|---|---|\n",
    "1|\tCell (1,1)|\tCell (1,2)\n",
    "2|\tCell (2,1)|\tCell (2,2)\n",
    "3|\tCell (3,1)|\tCell (3,2)\n",
    "\n",
    "____"
   ]
  },
  {
   "cell_type": "markdown",
   "metadata": {},
   "source": [
    "# (6) Links\n",
    "Here is a link to a Markdown guide: https://guides.github.com/features/mastering-markdown/\n",
    "\n",
    "[Here is the same Link](https://guides.github.com/features/mastering-markdown/) (with the web address hidden)"
   ]
  },
  {
   "cell_type": "markdown",
   "metadata": {},
   "source": [
    "# (7) Images\n",
    "This is an image:\n",
    "![Image text](logo.jpg)\n",
    "\n",
    "You can resize images using HTML code like this:"
   ]
  },
  {
   "cell_type": "code",
   "execution_count": 5,
   "metadata": {},
   "outputs": [
    {
     "data": {
      "text/html": [
       "\n",
       "    <img src=\"logo.jpg\" alt=\"drawing\" style=\"width:300px;\"/>\n"
      ],
      "text/plain": [
       "<IPython.core.display.HTML object>"
      ]
     },
     "metadata": {},
     "output_type": "display_data"
    }
   ],
   "source": [
    "%%html\n",
    "\n",
    "    <img src=\"logo.jpg\" alt=\"drawing\" style=\"width:300px;\"/>"
   ]
  },
  {
   "cell_type": "markdown",
   "metadata": {},
   "source": [
    "# (8) Python\n",
    "Python commands can be run directly in Jupyter notebooks."
   ]
  },
  {
   "cell_type": "code",
   "execution_count": 2,
   "metadata": {},
   "outputs": [
    {
     "name": "stdout",
     "output_type": "stream",
     "text": [
      "Hello world!\n"
     ]
    }
   ],
   "source": [
    "print('Hello world!')"
   ]
  },
  {
   "cell_type": "markdown",
   "metadata": {},
   "source": [
    "# Bonus !!!\n",
    "Create a [link](# (4)) that will take you to the \"Lists\" section above."
   ]
  }
 ],
 "metadata": {
  "kernelspec": {
   "display_name": "Python 3 (ipykernel)",
   "language": "python",
   "name": "python3"
  },
  "language_info": {
   "codemirror_mode": {
    "name": "ipython",
    "version": 3
   },
   "file_extension": ".py",
   "mimetype": "text/x-python",
   "name": "python",
   "nbconvert_exporter": "python",
   "pygments_lexer": "ipython3",
   "version": "3.8.8"
  }
 },
 "nbformat": 4,
 "nbformat_minor": 2
}
